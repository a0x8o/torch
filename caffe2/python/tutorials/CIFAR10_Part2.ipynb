{
 "cells": [
  {
   "cell_type": "markdown",
   "metadata": {},
   "source": [
    "# CIFAR-10: Part 2\n",
    "\n",
    "Welcome back! If you have not completed [Part 1](*), please do so before running the code in this notebook. \n",
    "\n",
    "In Part 2 we will assume you have the training and testing lmdbs, as well as the trained model .pb files from Part 1. As you may recall from Part 1, we created the dataset in the form of lmdbs then trained a model and saved the trained model in the form of a *predict_net.pb* and an *init_net.pb*. In this notebook, we will show how to test that saved model with the test lmdb and how to continue training to increase our test accuracy.\n",
    "\n",
    "Recall the objectives of the two part CIFAR-10 tutorial:\n",
    "\n",
    "**Part 1:**\n",
    "- Download dataset\n",
    "- Write images to lmdbs\n",
    "- Define and train a model with checkpoints\n",
    "- Save the trained model\n",
    "\n",
    "**Part 2:**\n",
    "- Load pre-trained model from Part 1\n",
    "- Run inference on testing lmdb\n",
    "- Continue training to improve test accuracy\n",
    "- Test the retrained model\n",
    "\n",
    "As before, let's start with some necessary imports."
   ]
  },
  {
   "cell_type": "code",
   "execution_count": null,
   "metadata": {},
   "outputs": [],
   "source": [
    "from __future__ import absolute_import\n",
    "from __future__ import division\n",
    "from __future__ import print_function\n",
    "from __future__ import unicode_literals\n",
    "import numpy as np\n",
    "import os\n",
    "import shutil\n",
    "import operator\n",
    "import glob\n",
    "from caffe2.python import core,model_helper,optimizer,workspace,brew,utils\n",
    "from caffe2.proto import caffe2_pb2\n",
    "import matplotlib.pyplot as plt \n",
    "from caffe2.python.modeling import initializers\n",
    "from caffe2.python.modeling.parameter_info import ParameterTags"
   ]
  },
  {
   "cell_type": "markdown",
   "metadata": {},
   "source": [
    "## Check Inputs\n",
    "\n",
    "Before we get started, let's make sure you have the necessary Part 1 files. We will use the saved model from the most recent run of Part 1."
   ]
  },
  {
   "cell_type": "code",
   "execution_count": 2,
   "metadata": {},
   "outputs": [
    {
     "name": "stdout",
     "output_type": "stream",
     "text": [
      "Success, you may continue!\n"
     ]
    }
   ],
   "source": [
    "# Train lmdb\n",
    "TRAIN_LMDB = os.path.join(os.path.expanduser('~'),\"caffe2_notebooks/tutorial_data/cifar10/training_lmdb\")\n",
    "# Test lmdb\n",
    "TEST_LMDB = os.path.join(os.path.expanduser('~'),\"caffe2_notebooks/tutorial_data/cifar10/testing_lmdb\")\n",
    "\n",
    "\n",
    "# Extract protobuf files from most recent Part 1 run\n",
    "part1_runs_path = os.path.join(os.path.expanduser('~'), \"caffe2_notebooks\", \"tutorial_files\", \"tutorial_cifar10\")\n",
    "runs = sorted(glob.glob(part1_runs_path + \"/*\"))\n",
    "\n",
    "# Init net\n",
    "INIT_NET = os.path.join(runs[-1], \"cifar10_init_net.pb\")\n",
    "# Predict net\n",
    "PREDICT_NET = os.path.join(runs[-1], \"cifar10_predict_net.pb\")\n",
    "\n",
    "\n",
    "# Make sure they all exist\n",
    "if (not os.path.exists(TRAIN_LMDB)) or (not os.path.exists(TEST_LMDB)) or (not os.path.exists(INIT_NET)) or (not os.path.exists(PREDICT_NET)):\n",
    "    print(\"ERROR: input not found!\")\n",
    "else:\n",
    "    print(\"Success, you may continue!\")"
   ]
  },
  {
   "cell_type": "markdown",
   "metadata": {},
   "source": [
    "### Repeat Helper Functions\n",
    "\n",
    "If these functions look familiar, you are correct; they have been copied-and-pasted from Part 1. To summarize, we will need the *AddInputLayer* function to connect our models to the lmdbs, and the *Add_Original_CIFAR10_Model* function to provide the architecture of the network."
   ]
  },
  {
   "cell_type": "code",
   "execution_count": 3,
   "metadata": {},
   "outputs": [],
   "source": [
    "def AddInputLayer(model, batch_size, db, db_type):\n",
    "    # load the data\n",
    "    #data_uint8, label = brew.db_input(\n",
    "    #    model,\n",
    "    #   blobs_out=[\"data_uint8\", \"label\"],\n",
    "    #   batch_size=batch_size,\n",
    "    #   db=db,\n",
    "    #    db_type=db_type,\n",
    "    #)\n",
    "    data_uint8, label = model.TensorProtosDBInput([], [\"data_uint8\", \"label\"], batch_size=batch_size, db=db, db_type=db_type)\n",
    "    # cast the data to float\n",
    "    data = model.Cast(data_uint8, \"data\", to=core.DataType.FLOAT)\n",
    "    # scale data from [0,255] down to [0,1]\n",
    "    data = model.Scale(data, data, scale=float(1./256))\n",
    "    # don't need the gradient for the backward pass\n",
    "    data = model.StopGradient(data, data)\n",
    "    return data, label\n",
    "\n",
    "def update_dims(height, width, kernel, stride, pad):\n",
    "    new_height = ((height - kernel + 2*pad)//stride) + 1\n",
    "    new_width = ((width - kernel + 2*pad)//stride) + 1\n",
    "    return new_height, new_width\n",
    "\n",
    "def Add_Original_CIFAR10_Model(model, data, num_classes, image_height, image_width, image_channels):\n",
    "    # Convolutional layer 1\n",
    "    conv1 = brew.conv(model, data, 'conv1', dim_in=image_channels, dim_out=32, kernel=5, stride=1, pad=2)\n",
    "    h,w = update_dims(height=image_height, width=image_width, kernel=5, stride=1, pad=2)\n",
    "    # Pooling layer 1\n",
    "    pool1 = brew.max_pool(model, conv1, 'pool1', kernel=3, stride=2)\n",
    "    h,w = update_dims(height=h, width=w, kernel=3, stride=2, pad=0)\n",
    "    # ReLU layer 1\n",
    "    relu1 = brew.relu(model, pool1, 'relu1')\n",
    "    \n",
    "    # Convolutional layer 2\n",
    "    conv2 = brew.conv(model, relu1, 'conv2', dim_in=32, dim_out=32, kernel=5, stride=1, pad=2)\n",
    "    h,w = update_dims(height=h, width=w, kernel=5, stride=1, pad=2)\n",
    "    # ReLU layer 2\n",
    "    relu2 = brew.relu(model, conv2, 'relu2')\n",
    "    # Pooling layer 1\n",
    "    pool2 = brew.average_pool(model, relu2, 'pool2', kernel=3, stride=2)\n",
    "    h,w = update_dims(height=h, width=w, kernel=3, stride=2, pad=0)\n",
    "    \n",
    "    # Convolutional layer 3\n",
    "    conv3 = brew.conv(model, pool2, 'conv3', dim_in=32, dim_out=64, kernel=5, stride=1, pad=2)\n",
    "    h,w = update_dims(height=h, width=w, kernel=5, stride=1, pad=2)\n",
    "    # ReLU layer 3\n",
    "    relu3 = brew.relu(model, conv3, 'relu3')\n",
    "    # Pooling layer 3\n",
    "    pool3 = brew.average_pool(model, relu3, 'pool3', kernel=3, stride=2)\n",
    "    h,w = update_dims(height=h, width=w, kernel=3, stride=2, pad=0)\n",
    "    \n",
    "    # Fully connected layers\n",
    "    fc1 = brew.fc(model, pool3, 'fc1', dim_in=64*h*w, dim_out=64)\n",
    "    fc2 = brew.fc(model, fc1, 'fc2', dim_in=64, dim_out=num_classes)\n",
    "    \n",
    "    # Softmax layer\n",
    "    softmax = brew.softmax(model, fc2, 'softmax')\n",
    "    return softmax"
   ]
  },
  {
   "cell_type": "markdown",
   "metadata": {},
   "source": [
    "## Test Saved Model From Part 1\n",
    "\n",
    "### Construct Model for Testing\n",
    "\n",
    "The first thing we need is a model helper object that we can attach the lmdb reader to."
   ]
  },
  {
   "cell_type": "code",
   "execution_count": 4,
   "metadata": {},
   "outputs": [],
   "source": [
    "# Create a ModelHelper object with init_params=False\n",
    "arg_scope = {\"order\": \"NCHW\"}\n",
    "test_model = model_helper.ModelHelper(name=\"test_model\", arg_scope=arg_scope, init_params=False)\n",
    "\n",
    "# Add the data input layer to the model, pointing at the TEST_LMDB\n",
    "data,_ = AddInputLayer(test_model,1,TEST_LMDB,'lmdb')"
   ]
  },
  {
   "cell_type": "markdown",
   "metadata": {},
   "source": [
    "### Populate the Model Helper with Saved Model Params\n",
    "\n",
    "To format a model for testing, we do not need to create params in the model helper, nor do we need to add gradient operators as we will only be performing forward passes. All we really need to do is populate the *.net* and *.param_init_net* members of the model helper with the contents of the saved *predict_net.pb* and *init_net.pb*, respectively. To accomplish this, we construct *caffe2_pb* objects with the protobuf from the pb files, create *Net* objects with the *caffe2_pb* objects, then **append** the net objects to the *.net* and *.param_init_net* members of the model helper. Appending is very important here! If we do not append, we would wipe out the input data layer stuff that we just added.\n",
    "\n",
    "Recall from Part 1, the saved model expected an input named *data* and produced an output called *softmax*. Conveniently (but not accidentally), the *AddInputLayer* function reads from the lmdb and puts the information into the workspace in a blob called *data*. It is also important to remember what each of the saved nets that we are appending to our model contains. The *predict_net* contains the structure of the model, including the ops involved in the forward pass. It has the definitions of the convolutional, pooling, and fc layers in the model. The *init_net* contains the weight initializations for the parameters that the ops in the *predict_net* expect. For example, if there is an op in the *predict_net* named 'fc1', the *init_net* will contain the trained weights (*fc1_w*), and biases (*fc1_b*) for that layer. \n",
    "\n",
    "After we append the nets, we add an accuracy layer to the model which uses the *softmax* output from the saved model and the *label* input from the lmdb. Note, we could manually fetch the softmax blob from the workspace after every iteration and check whether or not the class with the highest softmax score is the true label, but instead we opt for the simpler accuacy layer. "
   ]
  },
  {
   "cell_type": "code",
   "execution_count": 5,
   "metadata": {},
   "outputs": [],
   "source": [
    "# Populate the model helper obj with the init net stuff, which provides the \n",
    "#    weight initializations for the model\n",
    "init_net_proto = caffe2_pb2.NetDef()\n",
    "with open(INIT_NET, \"r\") as f:\n",
    "    init_net_proto.ParseFromString(f.read())\n",
    "test_model.param_init_net = test_model.param_init_net.AppendNet(core.Net(init_net_proto))\n",
    "\n",
    "# Populate the model helper obj with the predict net stuff, which defines \n",
    "#    the structure of the model\n",
    "predict_net_proto = caffe2_pb2.NetDef()\n",
    "with open(PREDICT_NET, \"r\") as f:\n",
    "    predict_net_proto.ParseFromString(f.read())\n",
    "test_model.net = test_model.net.AppendNet(core.Net(predict_net_proto))\n",
    "\n",
    "# Add an accuracy feature to the model for convenient reporting during testing\n",
    "accuracy = brew.accuracy(test_model, ['softmax', 'label' ], 'accuracy')"
   ]
  },
  {
   "cell_type": "markdown",
   "metadata": {},
   "source": [
    "### Run Testing\n",
    "\n",
    "At this point, our model is initialized as the saved model from Part 1. We can now run the testing loop and check the accuracy."
   ]
  },
  {
   "cell_type": "code",
   "execution_count": 6,
   "metadata": {},
   "outputs": [
    {
     "name": "stdout",
     "output_type": "stream",
     "text": [
      "Iter: 500, Current Accuracy: 0.654\n",
      "Iter: 1000, Current Accuracy: 0.663\n",
      "Iter: 1500, Current Accuracy: 0.640666666667\n",
      "Iter: 2000, Current Accuracy: 0.643\n",
      "Iter: 2500, Current Accuracy: 0.6356\n",
      "Iter: 3000, Current Accuracy: 0.639333333333\n",
      "Iter: 3500, Current Accuracy: 0.639142857143\n",
      "Iter: 4000, Current Accuracy: 0.63625\n",
      "Iter: 4500, Current Accuracy: 0.636444444444\n",
      "Iter: 5000, Current Accuracy: 0.6352\n",
      "Iter: 5500, Current Accuracy: 0.638181818182\n",
      "Iter: 6000, Current Accuracy: 0.638666666667\n",
      "Iter: 6500, Current Accuracy: 0.638461538462\n",
      "Iter: 7000, Current Accuracy: 0.636428571429\n",
      "Iter: 7500, Current Accuracy: 0.634533333333\n",
      "Iter: 8000, Current Accuracy: 0.63475\n",
      "Iter: 8500, Current Accuracy: 0.633058823529\n",
      "Iter: 9000, Current Accuracy: 0.632111111111\n",
      "Iter: 9500, Current Accuracy: 0.632421052632\n",
      "*********************************************\n",
      "Final Test Accuracy:  0.6321\n"
     ]
    }
   ],
   "source": [
    "# Run the param init net to put the trained model info into the workspace\n",
    "workspace.RunNetOnce(test_model.param_init_net)\n",
    "workspace.CreateNet(test_model.net, overwrite=True)\n",
    "\n",
    "# Stat keeper\n",
    "avg_accuracy = 0.0\n",
    "\n",
    "# Number of test iterations to run here, since the full test set is 10k images and the\n",
    "#  batch size is 1, we will run 10000 test batches to cover the entire test set\n",
    "test_iters = 10000\n",
    "\n",
    "# Main testing loop\n",
    "for i in range(test_iters):\n",
    "    workspace.RunNet(test_model.net)\n",
    "    acc = workspace.FetchBlob('accuracy')\n",
    "    avg_accuracy += acc\n",
    "    if (i % 500 == 0) and (i > 0):\n",
    "        print(\"Iter: {}, Current Accuracy: {}\".format(i, avg_accuracy/float(i)))\n",
    "\n",
    "# Report final test accuracy score as the number of correct predictions divided by 10,000\n",
    "print(\"*********************************************\")\n",
    "print(\"Final Test Accuracy: \",avg_accuracy/float(test_iters))"
   ]
  },
  {
   "cell_type": "markdown",
   "metadata": {},
   "source": [
    "## Continue Training\n",
    "\n",
    "Our model is performing significantly better than random guessing, but I think we can do a little better with more training. To do this we will:\n",
    "- create a new model helper\n",
    "- specify that the train data will come from the training lmdb\n",
    "- re-define the model architecture with the Add_Original_CIFAR10_Model function\n",
    "- grab the trained weights and biases from the saved init_net.pb\n",
    "- resume training\n",
    "\n",
    "### Construct Model for Re-Training\n",
    "\n",
    "Here we create a new model helper object for training. Nothing here should look new but take notice that we set **init_params=False**. This is important, as we do not want brew (in *Add_Original_CIFAR10_Model* function) to automatically initialize the params, rather we want to set them ourselves. Once we construct the model helper, we add the input layer and point it to the training lmdb, brew in the model architecture, and finally initialize the parameters by appending the contents of the saved *init_net.pb* to the *.param_init_net* member of the train model."
   ]
  },
  {
   "cell_type": "code",
   "execution_count": 7,
   "metadata": {},
   "outputs": [],
   "source": [
    "# Number of iterations to train for here\n",
    "training_iters = 3000\n",
    "\n",
    "# Reset workspace to clear all of the information from the testing stage\n",
    "workspace.ResetWorkspace()\n",
    "\n",
    "# Create new model\n",
    "arg_scope = {\"order\": \"NCHW\"}\n",
    "train_model = model_helper.ModelHelper(name=\"cifar10_train\", arg_scope=arg_scope, init_params=False)\n",
    "\n",
    "# Add the data layer to the model\n",
    "data,_ = AddInputLayer(train_model,100,TRAIN_LMDB,'lmdb')\n",
    "softmax = Add_Original_CIFAR10_Model(train_model, data, 10, 32, 32, 3)\n",
    "\n",
    "# Populate the param_init_net of the model obj with the contents of the init net\n",
    "init_net_proto = caffe2_pb2.NetDef()\n",
    "with open(INIT_NET, \"r\") as f:\n",
    "    init_net_proto.ParseFromString(f.read())\n",
    "tmp_init_net = core.Net(init_net_proto)\n",
    "train_model.param_init_net = train_model.param_init_net.AppendNet(tmp_init_net)"
   ]
  },
  {
   "cell_type": "markdown",
   "metadata": {},
   "source": [
    "### Specify Loss Function and Optimizer\n",
    "\n",
    "We can now proceed as normal by specifying the loss function, adding the gradient operators, and building the optimizier. Here, we opt for the same loss function and optimizer that we used in Part 1."
   ]
  },
  {
   "cell_type": "code",
   "execution_count": 8,
   "metadata": {},
   "outputs": [
    {
     "data": {
      "text/plain": [
       "<caffe2.python.optimizer.SgdOptimizer at 0x107a9b850>"
      ]
     },
     "execution_count": 8,
     "metadata": {},
     "output_type": "execute_result"
    }
   ],
   "source": [
    "# Add the \"training operators\" to the model\n",
    "xent = train_model.LabelCrossEntropy([softmax, 'label'], 'xent')\n",
    "# compute the expected loss\n",
    "loss = train_model.AveragedLoss(xent, \"loss\")\n",
    "# track the accuracy of the model\n",
    "accuracy = brew.accuracy(train_model, [softmax, 'label'], \"accuracy\")\n",
    "# use the average loss we just computed to add gradient operators to the model\n",
    "train_model.AddGradientOperators([loss])\n",
    "# Specify Optimization Algorithm\n",
    "optimizer.build_sgd(\n",
    "    train_model,\n",
    "    base_learning_rate=0.01,\n",
    "    policy=\"fixed\",\n",
    "    momentum=0.9,\n",
    "    weight_decay=0.004\n",
    ")"
   ]
  },
  {
   "cell_type": "markdown",
   "metadata": {},
   "source": [
    "**Important Note**\n",
    "\n",
    "Check out the results of the *GetOptimizationParamInfo* function. The *params* that this function returns are the parameters that will be optimized by the optimization function. If you are attempting to retrain a model in a different way, and your model doesnt seem to be learning, check the return value of this fuction. If it returns nothing, look no further for your problem! This is exactly the reason that we brew'ed in the layers of the train model with the *Add_Original_CIFAR10_Model* function, because it creates the params in the model automatically. If we had appended the *.net* member of the Model Helper as we did for the test model, this function would return nothing, meaning no parameters would get optimized. A workaround if you appended the net would be to manually create the params with the *create_param* function, which feels like a bit of a hack, especially if you have the add model code on-hand. "
   ]
  },
  {
   "cell_type": "code",
   "execution_count": 9,
   "metadata": {},
   "outputs": [
    {
     "name": "stdout",
     "output_type": "stream",
     "text": [
      "Param to be optimized:  conv3_b\n",
      "Param to be optimized:  fc2_w\n",
      "Param to be optimized:  fc1_b\n",
      "Param to be optimized:  conv1_b\n",
      "Param to be optimized:  conv2_b\n",
      "Param to be optimized:  conv3_w\n",
      "Param to be optimized:  fc2_b\n",
      "Param to be optimized:  fc1_w\n",
      "Param to be optimized:  conv2_w\n",
      "Param to be optimized:  conv1_w\n"
     ]
    }
   ],
   "source": [
    "for param in train_model.GetOptimizationParamInfo():\n",
    "    print(\"Param to be optimized: \",param)"
   ]
  },
  {
   "cell_type": "markdown",
   "metadata": {},
   "source": [
    "### Run Training\n",
    "\n",
    "**This step will take a while!**\n",
    "\n",
    "With our model helper setup we can now run the training as normal. Note, the accuracy and loss reported here is as measured on the *training* batches. Recall that the accuracy reported in Part 1 was the validation accuracy. Be careful how you interpret this number!"
   ]
  },
  {
   "cell_type": "code",
   "execution_count": 10,
   "metadata": {},
   "outputs": [
    {
     "name": "stdout",
     "output_type": "stream",
     "text": [
      "Iter: 0, Loss: 1.02017736435, Accuracy: 0.629999995232\n",
      "Iter: 100, Loss: 1.03627979755, Accuracy: 0.639999985695\n",
      "Iter: 200, Loss: 1.01044285297, Accuracy: 0.649999976158\n",
      "Iter: 300, Loss: 1.11098098755, Accuracy: 0.569999992847\n",
      "Iter: 400, Loss: 0.857563138008, Accuracy: 0.660000026226\n",
      "Iter: 500, Loss: 0.947329521179, Accuracy: 0.689999997616\n",
      "Iter: 600, Loss: 1.03314650059, Accuracy: 0.660000026226\n",
      "Iter: 700, Loss: 0.916410207748, Accuracy: 0.72000002861\n",
      "Iter: 800, Loss: 0.780662596226, Accuracy: 0.730000019073\n",
      "Iter: 900, Loss: 0.84335398674, Accuracy: 0.709999978542\n",
      "Iter: 1000, Loss: 0.813905596733, Accuracy: 0.740000009537\n",
      "Iter: 1100, Loss: 0.696036875248, Accuracy: 0.730000019073\n",
      "Iter: 1200, Loss: 0.901836633682, Accuracy: 0.680000007153\n",
      "Iter: 1300, Loss: 0.892839670181, Accuracy: 0.649999976158\n",
      "Iter: 1400, Loss: 0.832642018795, Accuracy: 0.72000002861\n",
      "Iter: 1500, Loss: 0.771974146366, Accuracy: 0.72000002861\n",
      "Iter: 1600, Loss: 0.926190078259, Accuracy: 0.699999988079\n",
      "Iter: 1700, Loss: 0.884124755859, Accuracy: 0.680000007153\n",
      "Iter: 1800, Loss: 0.891266524792, Accuracy: 0.660000026226\n",
      "Iter: 1900, Loss: 0.633636891842, Accuracy: 0.75\n",
      "Iter: 2000, Loss: 0.643068671227, Accuracy: 0.77999997139\n",
      "Iter: 2100, Loss: 0.827954411507, Accuracy: 0.740000009537\n",
      "Iter: 2200, Loss: 0.845260441303, Accuracy: 0.689999997616\n",
      "Iter: 2300, Loss: 0.806422412395, Accuracy: 0.689999997616\n",
      "Iter: 2400, Loss: 0.742512345314, Accuracy: 0.740000009537\n",
      "Iter: 2500, Loss: 0.785759627819, Accuracy: 0.759999990463\n",
      "Iter: 2600, Loss: 0.530824780464, Accuracy: 0.790000021458\n",
      "Iter: 2700, Loss: 0.726455926895, Accuracy: 0.709999978542\n",
      "Iter: 2800, Loss: 0.945818066597, Accuracy: 0.670000016689\n",
      "Iter: 2900, Loss: 0.67063999176, Accuracy: 0.810000002384\n"
     ]
    }
   ],
   "source": [
    "# Prime the workspace\n",
    "workspace.RunNetOnce(train_model.param_init_net)\n",
    "workspace.CreateNet(train_model.net, overwrite=True)\n",
    "\n",
    "# Run the training loop\n",
    "for i in range(training_iters):\n",
    "    workspace.RunNet(train_model.net)\n",
    "    acc = workspace.FetchBlob('accuracy')\n",
    "    loss = workspace.FetchBlob('loss')\n",
    "    if i % 100 == 0:\n",
    "        print (\"Iter: {}, Loss: {}, Accuracy: {}\".format(i,loss,acc))"
   ]
  },
  {
   "cell_type": "markdown",
   "metadata": {},
   "source": [
    "## Test the Retrained Model\n",
    "\n",
    "We will test the retrained model, just as we did in the first part of this notebook. However, since the params already exist in the workspace from the retraining step, we do not need to set the *.param_init_net*. Rather, we set **init_params=False** and brew in the model architecture with *Add_Original_CIFAR10_Model*. When we create the net, the model will find that the required blobs are already in the workspace. Then, we can run the main testing loop, which will report a final test accuracy score (which is hopefully higher)."
   ]
  },
  {
   "cell_type": "code",
   "execution_count": 11,
   "metadata": {},
   "outputs": [
    {
     "name": "stdout",
     "output_type": "stream",
     "text": [
      "Iter: 500, Current Accuracy: 0.712\n",
      "Iter: 1000, Current Accuracy: 0.721\n",
      "Iter: 1500, Current Accuracy: 0.718\n",
      "Iter: 2000, Current Accuracy: 0.713\n",
      "Iter: 2500, Current Accuracy: 0.71\n",
      "Iter: 3000, Current Accuracy: 0.716\n",
      "Iter: 3500, Current Accuracy: 0.72\n",
      "Iter: 4000, Current Accuracy: 0.71675\n",
      "Iter: 4500, Current Accuracy: 0.719555555556\n",
      "Iter: 5000, Current Accuracy: 0.7194\n",
      "Iter: 5500, Current Accuracy: 0.720363636364\n",
      "Iter: 6000, Current Accuracy: 0.721166666667\n",
      "Iter: 6500, Current Accuracy: 0.720461538462\n",
      "Iter: 7000, Current Accuracy: 0.719571428571\n",
      "Iter: 7500, Current Accuracy: 0.7188\n",
      "Iter: 8000, Current Accuracy: 0.7185\n",
      "Iter: 8500, Current Accuracy: 0.718235294118\n",
      "Iter: 9000, Current Accuracy: 0.718\n",
      "Iter: 9500, Current Accuracy: 0.717157894737\n",
      "*********************************************\n",
      "Final Test Accuracy:  0.7169\n"
     ]
    }
   ],
   "source": [
    "arg_scope = {\"order\": \"NCHW\"}\n",
    "# Construct the model\n",
    "test_model = model_helper.ModelHelper(name=\"test_model\", arg_scope=arg_scope, init_params=False)\n",
    "# Set the input as the test lmdb\n",
    "data,_ = AddInputLayer(test_model,1,TEST_LMDB,'lmdb')\n",
    "# brew in the model architecture\n",
    "softmax = Add_Original_CIFAR10_Model(test_model, data, 10, 32, 32, 3)\n",
    "accuracy = brew.accuracy(test_model, ['softmax', 'label' ], 'accuracy')\n",
    "# Prime the net\n",
    "workspace.RunNetOnce(test_model.param_init_net)\n",
    "workspace.CreateNet(test_model.net, overwrite=True)\n",
    "\n",
    "# Confusion Matrix for CIFAR-10\n",
    "cmat = np.zeros((10,10))\n",
    "\n",
    "# Stat keepers\n",
    "avg_accuracy = 0.0\n",
    "test_iters = 10000\n",
    "\n",
    "# Main testing loop\n",
    "for i in range(test_iters):\n",
    "    workspace.RunNet(test_model.net)\n",
    "    acc = workspace.FetchBlob('accuracy')\n",
    "    avg_accuracy += acc\n",
    "    if (i % 500 == 0) and (i > 0):\n",
    "        print(\"Iter: {}, Current Accuracy: {}\".format(i, avg_accuracy/float(i)))\n",
    "        \n",
    "    # Get the top-1 prediction\n",
    "    results = workspace.FetchBlob('softmax')[0]\n",
    "    label = workspace.FetchBlob('label')[0]\n",
    "    max_index, max_value = max(enumerate(results), key=operator.itemgetter(1))    \n",
    "    # Update confusion matrix\n",
    "    cmat[label,max_index] += 1\n",
    "\n",
    "# Report final testing results\n",
    "print(\"*********************************************\")\n",
    "print(\"Final Test Accuracy: \",avg_accuracy/float(test_iters))\n"
   ]
  },
  {
   "cell_type": "markdown",
   "metadata": {},
   "source": [
    "### Check Results\n",
    "\n",
    "Notice, the result from testing the re-trained model is better than the original test accuracy. If you wish, you can save the new model as .pb files just as in Part 1, but we will leave that to you. The last thing we will do is attempt to visualize the performance of our classifier by plotting a confusion matrix and looking for a **strong diagonal** trend."
   ]
  },
  {
   "cell_type": "code",
   "execution_count": 12,
   "metadata": {},
   "outputs": [
    {
     "data": {
      "image/png": "[encoded data removed]",
      "text/plain": [
       "<Figure size 720x720 with 1 Axes>"
      ]
     },
     "metadata": {},
     "output_type": "display_data"
    }
   ],
   "source": [
    "# Plot confusion matrix\n",
    "fig = plt.figure(figsize=(10,10))\n",
    "plt.tight_layout()\n",
    "ax = fig.add_subplot(111)\n",
    "res = ax.imshow(cmat, cmap=plt.cm.rainbow,interpolation='nearest')\n",
    "width, height = cmat.shape\n",
    "for x in xrange(width):\n",
    "    for y in xrange(height):\n",
    "        ax.annotate(str(cmat[x,y]), xy=(y, x),horizontalalignment='center',verticalalignment='center')\n",
    "\n",
    "classes = ['Airplane','Automobile','Bird','Cat','Deer','Dog','Frog','Horse','Ship','Truck']\n",
    "plt.xticks(range(width), classes, rotation=0)\n",
    "plt.yticks(range(height), classes, rotation=0)\n",
    "ax.set_xlabel('Predicted Class')\n",
    "ax.set_ylabel('True Class')\n",
    "plt.title('CIFAR-10 Confusion Matrix')\n",
    "plt.show()"
   ]
  }
 ],
 "metadata": {
  "anaconda-cloud": {},
  "kernelspec": {
   "display_name": "Python 2",
   "language": "python",
   "name": "python2"
  },
  "language_info": {
   "codemirror_mode": {
    "name": "ipython",
    "version": 2
   },
   "file_extension": ".py",
   "mimetype": "text/x-python",
   "name": "python",
   "nbconvert_exporter": "python",
   "pygments_lexer": "ipython2",
   "version": "2.7.14"
  }
 },
 "nbformat": 4,
 "nbformat_minor": 1
}
