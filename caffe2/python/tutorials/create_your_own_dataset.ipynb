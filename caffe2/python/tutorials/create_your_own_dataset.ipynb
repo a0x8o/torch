{
 "cells": [
  {
   "cell_type": "markdown",
   "metadata": {},
   "source": [
    "# How do I create my own dataset?\n",
    "\n",
    "So Caffe2 uses a binary DB format to store the data that we would like to train models on. A Caffe2 DB is a glorified name of a key-value storage where the keys are usually randomized so that the batches are approximately i.i.d. The values are the real stuff here: they contain the serialized strings of the specific data formats that you would like your training algorithm to ingest. So, the stored DB would look (semantically) like this:\n",
    "\n",
    "key1 value1\n",
    "key2 value2\n",
    "key3 value3\n",
    "...\n",
    "\n",
    "To a DB, it treats the keys and values as strings, but you probably want structured contents. One way to do this is to use a TensorProtos protocol buffer: it essentially wraps Tensors, aka multi-dimensional arrays, together with the tensor data type and shape information. Then, one can use the TensorProtosDBInput operator to load the data into an SGD training fashion.\n",
    "\n",
    "Here, we will show you one example of how to create your own dataset. To this end, we will use the UCI Iris dataset - which was a very popular classical dataset for classifying Iris flowers. It contains 4 real-valued features representing the dimensions of the flower, and classifies things into 3 types of Iris flowers. The dataset can be downloaded [here](https://archive.ics.uci.edu/ml/datasets/Iris)."
   ]
  },
  {
   "cell_type": "code",
   "execution_count": 1,
   "metadata": {
    "collapsed": false
   },
   "outputs": [
    {
     "name": "stderr",
     "output_type": "stream",
     "text": [
      "WARNING:root:This caffe2 python run does not have GPU support. Will run in CPU only mode.\n",
      "WARNING:root:Debug message: No module named caffe2_pybind11_state_gpu\n"
     ]
    },
    {
     "name": "stdout",
     "output_type": "stream",
     "text": [
      "If you are using homebrew leveldb on a Mac OS, you might see an error warning you that malloc_zone_unregister() failed. This is not a caffe2 issue but is due to the homebrew leveldb having an incompatible memory allocator. It does not affect usage.\n"
     ]
    }
   ],
   "source": [
    "# First let's import a few things needed.\n",
    "%matplotlib inline\n",
    "import urllib2 # for downloading the dataset from the web.\n",
    "import numpy as np\n",
    "from matplotlib import pyplot\n",
    "from StringIO import StringIO\n",
    "from caffe2.python import core, utils, workspace\n",
    "from caffe2.proto import caffe2_pb2"
   ]
  },
  {
   "cell_type": "code",
   "execution_count": 2,
   "metadata": {
    "collapsed": false
   },
   "outputs": [
    {
     "name": "stdout",
     "output_type": "stream",
     "text": [
      "Raw data looks like this:\n",
      "5.1,3.5,1.4,0.2,Iris-setosa\n",
      "4.9,3.0,1.4,0.2,Iris-setosa\n",
      "4.7,3.2,1.3,0.2,Iris-setosa\n",
      "4.6,3.1,1.5,0.2,...\n"
     ]
    }
   ],
   "source": [
    "f = urllib2.urlopen('https://archive.ics.uci.edu/ml/machine-learning-databases/iris/iris.data')\n",
    "raw_data = f.read()\n",
    "print('Raw data looks like this:')\n",
    "print(raw_data[:100] + '...')"
   ]
  },
  {
   "cell_type": "code",
   "execution_count": 3,
   "metadata": {
    "collapsed": false
   },
   "outputs": [],
   "source": [
    "# load the features to a feature matrix.\n",
    "features = np.loadtxt(StringIO(raw_data), dtype=np.float32, delimiter=',', usecols=(0, 1, 2, 3))\n",
    "# load the labels to a feature matrix\n",
    "label_converter = lambda s : {'Iris-setosa':0, 'Iris-versicolor':1, 'Iris-virginica':2}[s]\n",
    "labels = np.loadtxt(StringIO(raw_data), dtype=np.int, delimiter=',', usecols=(4,), converters={4: label_converter})"
   ]
  },
  {
   "cell_type": "markdown",
   "metadata": {},
   "source": [
    "Before we do training, one thing that is often beneficial is to separate the dataset into training and testing. In this case, let's randomly shuffle the data, use the first 100 data points to do training, and the remaining 50 to do testing. For more sophisticated approaches, you can use e.g. cross validation to separate your dataset into multiple training and testing splits. Read more about cross validation [here](http://scikit-learn.org/stable/modules/cross_validation.html)."
   ]
  },
  {
   "cell_type": "code",
   "execution_count": 4,
   "metadata": {
    "collapsed": true
   },
   "outputs": [],
   "source": [
    "random_index = np.random.permutation(150)\n",
    "features = features[random_index]\n",
    "labels = labels[random_index]\n",
    "\n",
    "train_features = features[:100]\n",
    "train_labels = labels[:100]\n",
    "test_features = features[100:]\n",
    "test_labels = labels[100:]"
   ]
  },
  {
   "cell_type": "code",
   "execution_count": 5,
   "metadata": {
    "collapsed": false
   },
   "outputs": [
    {
     "data": {
      "image/png": "[encoded data removed]",
      "text/plain": [
       "<matplotlib.figure.Figure at 0x111528750>"
      ]
     },
     "metadata": {},
     "output_type": "display_data"
    },
    {
     "data": {
      "image/png": "[encoded data removed]",
      "text/plain": [
       "<matplotlib.figure.Figure at 0x1128814d0>"
      ]
     },
     "metadata": {},
     "output_type": "display_data"
    }
   ],
   "source": [
    "# Let's plot the first two features together with the label.\n",
    "# Remember, while we are plotting the testing feature distribution\n",
    "# here too, you might not be supposed to do so in real research,\n",
    "# because one should not peek into the testing data.\n",
    "legend = ['rx', 'b+', 'go']\n",
    "pyplot.title(\"Training data distribution, feature 0 and 1\")\n",
    "for i in range(3):\n",
    "    pyplot.plot(train_features[train_labels==i, 0], train_features[train_labels==i, 1], legend[i])\n",
    "pyplot.figure()\n",
    "pyplot.title(\"Testing data distribution, feature 0 and 1\")\n",
    "for i in range(3):\n",
    "    pyplot.plot(test_features[test_labels==i, 0], test_features[test_labels==i, 1], legend[i])"
   ]
  },
  {
   "cell_type": "markdown",
   "metadata": {},
   "source": [
    "Now, as promised, let's put things into a Caffe2 DB. In this DB, what would happen is that we will use \"train_xxx\" as the key, and use a TensorProtos object to store two tensors for each data point: one as the feature and one as the label. We will use Caffe2 python's DB interface to do so."
   ]
  },
  {
   "cell_type": "code",
   "execution_count": 6,
   "metadata": {
    "collapsed": false
   },
   "outputs": [
    {
     "name": "stdout",
     "output_type": "stream",
     "text": [
      "This is what the tensor proto looks like for a feature and its label:\n",
      "protos {\n",
      "  dims: 4\n",
      "  data_type: FLOAT\n",
      "  float_data: 5.40000009537\n",
      "  float_data: 3.0\n",
      "  float_data: 4.5\n",
      "  float_data: 1.5\n",
      "}\n",
      "protos {\n",
      "  data_type: INT32\n",
      "  int32_data: 1\n",
      "}\n",
      "\n",
      "This is the compact string that gets written into the db:\n",
      "\n",
      "\u0016\b\u0004\u0010\u0001\u001a\u0010�̬@\u0000\u0000@@\u0000\u0000�@\u0000\u0000�?\n",
      "\u0005\u0010\u0002\"\u0001\u0001\n"
     ]
    }
   ],
   "source": [
    "# First, let's see how one can construct a TensorProtos protocol buffer from numpy arrays.\n",
    "feature_and_label = caffe2_pb2.TensorProtos()\n",
    "feature_and_label.protos.extend([\n",
    "    utils.NumpyArrayToCaffe2Tensor(features[0]),\n",
    "    utils.NumpyArrayToCaffe2Tensor(labels[0])])\n",
    "print('This is what the tensor proto looks like for a feature and its label:')\n",
    "print(str(feature_and_label))\n",
    "print('This is the compact string that gets written into the db:')\n",
    "print(feature_and_label.SerializeToString())"
   ]
  },
  {
   "cell_type": "code",
   "execution_count": 7,
   "metadata": {
    "collapsed": false
   },
   "outputs": [],
   "source": [
    "# Now, actually write the db.\n",
    "\n",
    "def write_db(db_type, db_name, features, labels):\n",
    "    db = core.C.create_db(db_type, db_name, core.C.Mode.write)\n",
    "    transaction = db.new_transaction()\n",
    "    for i in range(features.shape[0]):\n",
    "        feature_and_label = caffe2_pb2.TensorProtos()\n",
    "        feature_and_label.protos.extend([\n",
    "            utils.NumpyArrayToCaffe2Tensor(features[i]),\n",
    "            utils.NumpyArrayToCaffe2Tensor(labels[i])])\n",
    "        transaction.put(\n",
    "            'train_%03d'.format(i),\n",
    "            feature_and_label.SerializeToString())\n",
    "    # Close the transaction, and then close the db.\n",
    "    del transaction\n",
    "    del db\n",
    "\n",
    "write_db(\"minidb\", \"iris_train.minidb\", train_features, train_labels)\n",
    "write_db(\"minidb\", \"iris_test.minidb\", test_features, test_labels)"
   ]
  },
  {
   "cell_type": "markdown",
   "metadata": {},
   "source": [
    "Now, let's create a very simple network that only consists of one single TensorProtosDBInput operator, to showcase how we load data from the DB that we created. For training, you might want to do something more complex: creating a network, train it, get the model, and run the prediction service. To this end you can look at the MNIST tutorial for details."
   ]
  },
  {
   "cell_type": "code",
   "execution_count": 8,
   "metadata": {
    "collapsed": false
   },
   "outputs": [
    {
     "name": "stdout",
     "output_type": "stream",
     "text": [
      "The net looks like this:\n",
      "name: \"example_reader\"\n",
      "op {\n",
      "  output: \"dbreader\"\n",
      "  name: \"\"\n",
      "  type: \"CreateDB\"\n",
      "  arg {\n",
      "    name: \"db_type\"\n",
      "    s: \"minidb\"\n",
      "  }\n",
      "  arg {\n",
      "    name: \"db\"\n",
      "    s: \"iris_train.minidb\"\n",
      "  }\n",
      "}\n",
      "op {\n",
      "  input: \"dbreader\"\n",
      "  output: \"X\"\n",
      "  output: \"Y\"\n",
      "  name: \"\"\n",
      "  type: \"TensorProtosDBInput\"\n",
      "  arg {\n",
      "    name: \"batch_size\"\n",
      "    i: 16\n",
      "  }\n",
      "}\n",
      "\n"
     ]
    }
   ],
   "source": [
    "net_proto = core.Net(\"example_reader\")\n",
    "dbreader = net_proto.CreateDB([], \"dbreader\", db=\"iris_train.minidb\", db_type=\"minidb\")\n",
    "net_proto.TensorProtosDBInput([dbreader], [\"X\", \"Y\"], batch_size=16)\n",
    "\n",
    "print(\"The net looks like this:\")\n",
    "print(str(net_proto.Proto()))"
   ]
  },
  {
   "cell_type": "code",
   "execution_count": 9,
   "metadata": {
    "collapsed": false
   },
   "outputs": [
    {
     "data": {
      "text/plain": [
       "True"
      ]
     },
     "execution_count": 9,
     "metadata": {},
     "output_type": "execute_result"
    }
   ],
   "source": [
    "workspace.CreateNet(net_proto)"
   ]
  },
  {
   "cell_type": "code",
   "execution_count": 10,
   "metadata": {
    "collapsed": false
   },
   "outputs": [
    {
     "name": "stdout",
     "output_type": "stream",
     "text": [
      "The first batch of feature is:\n",
      "[[ 5.19999981  4.0999999   1.5         0.1       ]\n",
      " [ 5.0999999   3.79999995  1.5         0.30000001]\n",
      " [ 6.9000001   3.0999999   4.9000001   1.5       ]\n",
      " [ 7.69999981  2.79999995  6.69999981  2.        ]\n",
      " [ 6.5999999   2.9000001   4.5999999   1.29999995]\n",
      " [ 6.30000019  2.79999995  5.0999999   1.5       ]\n",
      " [ 7.30000019  2.9000001   6.30000019  1.79999995]\n",
      " [ 5.5999999   2.9000001   3.5999999   1.29999995]\n",
      " [ 6.5         3.          5.19999981  2.        ]\n",
      " [ 5.          3.4000001   1.5         0.2       ]\n",
      " [ 6.9000001   3.0999999   5.4000001   2.0999999 ]\n",
      " [ 6.          3.4000001   4.5         1.60000002]\n",
      " [ 5.4000001   3.4000001   1.70000005  0.2       ]\n",
      " [ 6.30000019  2.70000005  4.9000001   1.79999995]\n",
      " [ 5.19999981  2.70000005  3.9000001   1.39999998]\n",
      " [ 6.19999981  2.9000001   4.30000019  1.29999995]]\n",
      "The first batch of label is:\n",
      "[0 0 1 2 1 2 2 1 2 0 2 1 0 2 1 1]\n",
      "The second batch of feature is:\n",
      "[[ 5.69999981  2.79999995  4.0999999   1.29999995]\n",
      " [ 5.0999999   2.5         3.          1.10000002]\n",
      " [ 4.4000001   2.9000001   1.39999998  0.2       ]\n",
      " [ 7.          3.20000005  4.69999981  1.39999998]\n",
      " [ 5.69999981  2.9000001   4.19999981  1.29999995]\n",
      " [ 5.          3.5999999   1.39999998  0.2       ]\n",
      " [ 5.19999981  3.5         1.5         0.2       ]\n",
      " [ 6.69999981  3.          5.19999981  2.29999995]\n",
      " [ 6.19999981  3.4000001   5.4000001   2.29999995]\n",
      " [ 6.4000001   2.70000005  5.30000019  1.89999998]\n",
      " [ 6.5         3.20000005  5.0999999   2.        ]\n",
      " [ 6.0999999   3.          4.9000001   1.79999995]\n",
      " [ 5.4000001   3.4000001   1.5         0.40000001]\n",
      " [ 4.9000001   3.0999999   1.5         0.1       ]\n",
      " [ 5.5         3.5         1.29999995  0.2       ]\n",
      " [ 6.69999981  3.          5.          1.70000005]]\n",
      "The second batch of label is:\n",
      "[1 1 0 1 1 0 0 2 2 2 2 2 0 0 0 1]\n"
     ]
    }
   ],
   "source": [
    "# Let's run it to get batches of features.\n",
    "workspace.RunNet(net_proto.Proto().name)\n",
    "print(\"The first batch of feature is:\")\n",
    "print(workspace.FetchBlob(\"X\"))\n",
    "print(\"The first batch of label is:\")\n",
    "print(workspace.FetchBlob(\"Y\"))\n",
    "\n",
    "# Let's run again.\n",
    "workspace.RunNet(net_proto.Proto().name)\n",
    "print(\"The second batch of feature is:\")\n",
    "print(workspace.FetchBlob(\"X\"))\n",
    "print(\"The second batch of label is:\")\n",
    "print(workspace.FetchBlob(\"Y\"))"
   ]
  },
  {
   "cell_type": "code",
   "execution_count": null,
   "metadata": {
    "collapsed": true
   },
   "outputs": [],
   "source": []
  }
 ],
 "metadata": {
  "kernelspec": {
   "display_name": "Python 2",
   "language": "python",
   "name": "python2"
  },
  "language_info": {
   "codemirror_mode": {
    "name": "ipython",
    "version": 2
   },
   "file_extension": ".py",
   "mimetype": "text/x-python",
   "name": "python",
   "nbconvert_exporter": "python",
   "pygments_lexer": "ipython2",
   "version": "2.7.13"
  }
 },
 "nbformat": 4,
 "nbformat_minor": 0
}
